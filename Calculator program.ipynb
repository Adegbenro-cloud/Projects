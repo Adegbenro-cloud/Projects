{
 "cells": [
  {
   "cell_type": "code",
   "execution_count": 5,
   "metadata": {},
   "outputs": [
    {
     "data": {
      "text/plain": [
       "3"
      ]
     },
     "execution_count": 5,
     "metadata": {},
     "output_type": "execute_result"
    }
   ],
   "source": [
    "1+2"
   ]
  },
  {
   "cell_type": "code",
   "execution_count": null,
   "metadata": {},
   "outputs": [
    {
     "name": "stdout",
     "output_type": "stream",
     "text": [
      "Welcome to calculator.py\n",
      "your options are\n",
      " \n",
      "1) Addiiton\n",
      "2) Subtraction\n",
      "3) Multiplication\n",
      "4) Division\n",
      "5) Quit calculator.py\n",
      " \n"
     ]
    }
   ],
   "source": [
    "#calculator program\n",
    "loop = 1\n",
    "choice = 0\n",
    "#\n",
    "while loop == 1:\n",
    "    #print what options you have\n",
    "    print (\"Welcome to calculator.py\")\n",
    "    \n",
    "    print(\"your options are\")\n",
    "    print(\" \")\n",
    "    print(\"1) Addiiton\")\n",
    "    print(\"2) Subtraction\")\n",
    "    \n",
    "    print(\"3) Multiplication\")\n",
    "    print(\"4) Division\")\n",
    "    print(\"5) Quit calculator.py\")\n",
    "    print(\" \")\n",
    "    \n",
    "    choice = int(input(\"choose your option: \"))\n",
    "    if choice == 1:\n",
    "        add1 = int(input(\"Add this: \"))\n",
    "        add2 = int(input(\"Add this: \"))\n",
    "        print (add1, \"+\", add2, \"=\", add1 + add2)\n",
    "    elif choice == 2:\n",
    "        sub2 = int(input(\"Subract this: \"))\n",
    "        sub1 = int(input(\"from this: \"))\n",
    "        print (sub1, \"-\", sub2, \"=\", sub1 - sub2)\n",
    "    elif choice == 3:\n",
    "        mul1 = int(input(\"Multiply this: \"))\n",
    "        mul2 = int(input(\"by this: \"))\n",
    "        print (mul1, \"*\", mul2, \"*\", mul1 * mul2)\n",
    "    elif choice == 4:\n",
    "        div1 = int(input(\"Divide this: \"))\n",
    "        div2 = int(input(\"by this: \"))\n",
    "        print (div1, \"/\", div2, \"/\", div1 / div2)\n",
    "    elif choice == 5:\n",
    "        loop = 0\n",
    "print (\"Thank you for using Calculator.py\")"
   ]
  },
  {
   "cell_type": "code",
   "execution_count": null,
   "metadata": {},
   "outputs": [],
   "source": [
    "def menu():\n"
   ]
  },
  {
   "cell_type": "markdown",
   "metadata": {},
   "source": [
    "QUADRACTIC FORMULA"
   ]
  },
  {
   "cell_type": "code",
   "execution_count": 5,
   "metadata": {},
   "outputs": [
    {
     "ename": "SyntaxError",
     "evalue": "invalid syntax (<ipython-input-5-451fae330208>, line 5)",
     "output_type": "error",
     "traceback": [
      "\u001b[1;36m  File \u001b[1;32m\"<ipython-input-5-451fae330208>\"\u001b[1;36m, line \u001b[1;32m5\u001b[0m\n\u001b[1;33m    if a = 4 , b = 2\u001b[0m\n\u001b[1;37m         ^\u001b[0m\n\u001b[1;31mSyntaxError\u001b[0m\u001b[1;31m:\u001b[0m invalid syntax\n"
     ]
    }
   ],
   "source": [
    "def quad(a,b,c):\n",
    "    x1=-b+((math.sqrt(b**2-(4*a*c)))/(2*a))\n",
    "    X2=-b-((math.sqrt(b**2-(4*a*c)))/(2*a))\n",
    "    return(x1,x2)\n",
    "if a = 4 , b = 2\n",
    "    return(x1,x2)\n"
   ]
  },
  {
   "cell_type": "code",
   "execution_count": 1,
   "metadata": {},
   "outputs": [
    {
     "name": "stdout",
     "output_type": "stream",
     "text": [
      "{'andrew': 24, 'bola': 24, 'neo': 24, 'vee': 24} {'laycon': 31, 'tbaj': 31, 'wendy': 31}\n"
     ]
    }
   ],
   "source": [
    "#Asisnging a mark to all students \n",
    "mylist1 = [\"andrew\", \"bola\",\"neo\", \"vee\"]\n",
    "mylist2 = [\"laycon\", \"tbaj\", \"wendy\"]\n",
    "mydict= {x:24 for x in mylist1}\n",
    "mydict2= {x:31 for x in mylist2}\n",
    "print(mydict, mydict2)\n",
    "\n"
   ]
  },
  {
   "cell_type": "code",
   "execution_count": null,
   "metadata": {},
   "outputs": [],
   "source": [
    "mylist = [for i in range(100)]\n",
    "print(mylist)"
   ]
  },
  {
   "cell_type": "code",
   "execution_count": null,
   "metadata": {},
   "outputs": [],
   "source": []
  }
 ],
 "metadata": {
  "kernelspec": {
   "display_name": "Python 3",
   "language": "python",
   "name": "python3"
  },
  "language_info": {
   "codemirror_mode": {
    "name": "ipython",
    "version": 3
   },
   "file_extension": ".py",
   "mimetype": "text/x-python",
   "name": "python",
   "nbconvert_exporter": "python",
   "pygments_lexer": "ipython3",
   "version": "3.6.5"
  }
 },
 "nbformat": 4,
 "nbformat_minor": 2
}
